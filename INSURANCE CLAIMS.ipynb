{
 "cells": [
  {
   "cell_type": "code",
   "execution_count": 4,
   "id": "b0c360ca",
   "metadata": {},
   "outputs": [],
   "source": [
    "import numpy as np\n",
    "import pandas as pd\n",
    "import matplotlib.pyplot as plt\n",
    "import seaborn as sns"
   ]
  },
  {
   "cell_type": "raw",
   "id": "f39f9ed5",
   "metadata": {},
   "source": [
    " Ques..1. Import claims_data.csv and cust_data.csv which is provided to you and \n",
    "         combine the two datasets appropriately to create a 360-degree view of \n",
    "         the data. Use the same for the subsequent questions"
   ]
  },
  {
   "cell_type": "code",
   "execution_count": 8,
   "id": "4d7cb4b5",
   "metadata": {},
   "outputs": [],
   "source": [
    "claim_data = pd.read_csv(r\"C:\\Users\\Admin\\Downloads\\New folder\\Case Study 3 - Insurance Claims Case Study\\claims.csv\")\n",
    "cust_data = pd.read_csv(r\"C:\\Users\\Admin\\Downloads\\New folder\\Case Study 3 - Insurance Claims Case Study\\cust_demographics.csv\")"
   ]
  },
  {
   "cell_type": "code",
   "execution_count": 9,
   "id": "59c3575c",
   "metadata": {},
   "outputs": [],
   "source": [
    "cust_data.rename(columns={'CUST_ID':'customer_id'},inplace=True) ## Changed name so that we can join perfectly"
   ]
  },
  {
   "cell_type": "code",
   "execution_count": 10,
   "id": "f2adcff7",
   "metadata": {},
   "outputs": [],
   "source": [
    "cust_claim=pd.merge(claim_data,cust_data,on='customer_id',how='inner') ## Merged cust_data and claim_data"
   ]
  },
  {
   "cell_type": "raw",
   "id": "0fc18193",
   "metadata": {},
   "source": [
    " Ques.2. Perform a data audit for the datatypes and find out if there are any \n",
    "         mismatch within the current datatypes of the columns and their \n",
    "         business significance."
   ]
  },
  {
   "cell_type": "code",
   "execution_count": 11,
   "id": "dbb3bc79",
   "metadata": {},
   "outputs": [],
   "source": [
    "# Datatype change according to bussiness:-\n",
    "\n",
    "cust_claim[['claim_id','customer_id']]=cust_claim[['claim_id','customer_id']].astype('object')"
   ]
  },
  {
   "cell_type": "code",
   "execution_count": 12,
   "id": "083d8376",
   "metadata": {},
   "outputs": [],
   "source": [
    "cust_claim['claim_date']=pd.to_datetime(cust_claim['claim_date'])"
   ]
  },
  {
   "cell_type": "code",
   "execution_count": 13,
   "id": "240d79ad",
   "metadata": {},
   "outputs": [],
   "source": [
    "cust_claim['DateOfBirth']=pd.to_datetime(cust_claim['DateOfBirth'])"
   ]
  },
  {
   "cell_type": "raw",
   "id": "a23b0d83",
   "metadata": {},
   "source": [
    " Ques.3.Convert the column claim_amount to numeric. Use the appropriate \n",
    "       modules/attributes to remove the $ sign."
   ]
  },
  {
   "cell_type": "code",
   "execution_count": 14,
   "id": "8b682522",
   "metadata": {},
   "outputs": [],
   "source": [
    "cust_claim['claim_amount']=cust_claim['claim_amount'].str.replace('$','',regex=True).astype(float)"
   ]
  },
  {
   "cell_type": "raw",
   "id": "86be783c",
   "metadata": {},
   "source": [
    " Ques.4. Of all the injury claims, some of them have gone unreported with the \n",
    "            police. Create an alert flag (1,0) for all such claims."
   ]
  },
  {
   "cell_type": "code",
   "execution_count": 15,
   "id": "6f5520e6",
   "metadata": {},
   "outputs": [],
   "source": [
    "cust_claim['alert_flag']=cust_claim['police_report'].apply(lambda x:1 if x in ['No','Unknown'] else 0)"
   ]
  },
  {
   "cell_type": "raw",
   "id": "dcbbc8ae",
   "metadata": {},
   "source": [
    " Ques.5. One customer can claim for insurance more than once and in each claim,\n",
    "            multiple categories of claims can be involved. However, customer ID \n",
    "            should remain unique. \n",
    "            Retain the most recent observation and delete any duplicated records in\n",
    "            the data based on the customer ID column"
   ]
  },
  {
   "cell_type": "code",
   "execution_count": 16,
   "id": "4f864296",
   "metadata": {},
   "outputs": [],
   "source": [
    "cust_claim.sort_values(by='claim_date',ascending=False,inplace=True)"
   ]
  },
  {
   "cell_type": "code",
   "execution_count": 17,
   "id": "d75aef59",
   "metadata": {},
   "outputs": [],
   "source": [
    "cust_claim.drop_duplicates(subset='customer_id',keep='first',inplace=True)"
   ]
  },
  {
   "cell_type": "raw",
   "id": "71a34dbe",
   "metadata": {},
   "source": [
    " Ques.6.Check for missing values and impute the missing values with an \n",
    "       appropriate value. (mean for continuous and mode for categorical)"
   ]
  },
  {
   "cell_type": "code",
   "execution_count": 18,
   "id": "bff1bfba",
   "metadata": {},
   "outputs": [],
   "source": [
    "# Fill the continue missing value with mean\n",
    "cust_claim['claim_amount'].fillna(cust_claim['claim_amount'].mean(),inplace=True) "
   ]
  },
  {
   "cell_type": "code",
   "execution_count": 19,
   "id": "90e390a5",
   "metadata": {},
   "outputs": [],
   "source": [
    "## Fill the categorical missing value by mode\n",
    "cust_claim['total_policy_claims'].fillna(cust_claim['total_policy_claims'].mode()[0],inplace=True)"
   ]
  },
  {
   "cell_type": "code",
   "execution_count": 20,
   "id": "76fbc009",
   "metadata": {},
   "outputs": [
    {
     "data": {
      "text/plain": [
       "0"
      ]
     },
     "execution_count": 20,
     "metadata": {},
     "output_type": "execute_result"
    }
   ],
   "source": [
    "cust_claim.isnull().sum().sum()"
   ]
  },
  {
   "cell_type": "raw",
   "id": "6fff094c",
   "metadata": {},
   "source": [
    "Ques.7.    Calculate the age of customers in years. Based on the age, categorize the\n",
    "           customers according to the below criteria\n",
    "           Children < 18\n",
    "           Youth 18-30\n",
    "           Adult 30-60\n",
    "           Senior > 60\n"
   ]
  },
  {
   "cell_type": "code",
   "execution_count": 21,
   "id": "e94c8e90",
   "metadata": {},
   "outputs": [],
   "source": [
    "from datetime import datetime"
   ]
  },
  {
   "cell_type": "code",
   "execution_count": 22,
   "id": "e4aa1e8f",
   "metadata": {},
   "outputs": [],
   "source": [
    "crnt_dte=datetime.now()"
   ]
  },
  {
   "cell_type": "code",
   "execution_count": 23,
   "id": "e633740d",
   "metadata": {},
   "outputs": [],
   "source": [
    "## Making Age columns\n",
    "\n",
    "cust_claim['Age']=(crnt_dte-cust_claim['DateOfBirth']).dt.days \n",
    "\n",
    "cust_claim['Age']=cust_claim['Age'].apply(lambda x:0 if x<0 else x)\n",
    "\n",
    "cust_claim['Age']=round(cust_claim['Age']/365).astype(int)"
   ]
  },
  {
   "cell_type": "code",
   "execution_count": 24,
   "id": "8a5c8a25",
   "metadata": {},
   "outputs": [],
   "source": [
    "## Divide the customers in age groups\n",
    "\n",
    "bins=[0,18,30,60,100]\n",
    "\n",
    "cust_claim['Age_group']=pd.cut(cust_claim['Age'],bins=bins,labels=['Under 18','18-30','30-60','Over 60'],include_lowest=True)"
   ]
  },
  {
   "cell_type": "raw",
   "id": "a521e808",
   "metadata": {},
   "source": [
    "Ques.8. What is the average amount claimed by the customers from various \n",
    "        segments?\n"
   ]
  },
  {
   "cell_type": "code",
   "execution_count": null,
   "id": "d2526c58",
   "metadata": {},
   "outputs": [],
   "source": []
  },
  {
   "cell_type": "code",
   "execution_count": 25,
   "id": "ff2a72b1",
   "metadata": {},
   "outputs": [
    {
     "name": "stdout",
     "output_type": "stream",
     "text": [
      "The average amount claimed by the customers from various segments:-\n"
     ]
    },
    {
     "data": {
      "text/html": [
       "<div>\n",
       "<style scoped>\n",
       "    .dataframe tbody tr th:only-of-type {\n",
       "        vertical-align: middle;\n",
       "    }\n",
       "\n",
       "    .dataframe tbody tr th {\n",
       "        vertical-align: top;\n",
       "    }\n",
       "\n",
       "    .dataframe thead th {\n",
       "        text-align: right;\n",
       "    }\n",
       "</style>\n",
       "<table border=\"1\" class=\"dataframe\">\n",
       "  <thead>\n",
       "    <tr style=\"text-align: right;\">\n",
       "      <th></th>\n",
       "      <th>Segment</th>\n",
       "      <th>claim_amount</th>\n",
       "    </tr>\n",
       "  </thead>\n",
       "  <tbody>\n",
       "    <tr>\n",
       "      <th>0</th>\n",
       "      <td>Gold</td>\n",
       "      <td>12846.0</td>\n",
       "    </tr>\n",
       "    <tr>\n",
       "      <th>1</th>\n",
       "      <td>Platinum</td>\n",
       "      <td>12372.0</td>\n",
       "    </tr>\n",
       "    <tr>\n",
       "      <th>2</th>\n",
       "      <td>Silver</td>\n",
       "      <td>12268.0</td>\n",
       "    </tr>\n",
       "  </tbody>\n",
       "</table>\n",
       "</div>"
      ],
      "text/plain": [
       "    Segment  claim_amount\n",
       "0      Gold       12846.0\n",
       "1  Platinum       12372.0\n",
       "2    Silver       12268.0"
      ]
     },
     "execution_count": 25,
     "metadata": {},
     "output_type": "execute_result"
    }
   ],
   "source": [
    "avg_amt=round(cust_claim.groupby('Segment')['claim_amount'].mean()).reset_index()\n",
    "print('The average amount claimed by the customers from various segments:-')\n",
    "avg_amt"
   ]
  },
  {
   "cell_type": "raw",
   "id": "871db097",
   "metadata": {},
   "source": [
    "Ques.9. What is the total claim amount based on incident cause for all the claims\n",
    "        that have been done at least 20 days prior to 1st of October, 2018."
   ]
  },
  {
   "cell_type": "code",
   "execution_count": 26,
   "id": "a53a6f32",
   "metadata": {},
   "outputs": [],
   "source": [
    "before=pd.to_datetime('2018-10-01') - pd.DateOffset(days=20) # Derive the dates before 20 days from 1st oct 2018"
   ]
  },
  {
   "cell_type": "code",
   "execution_count": 27,
   "id": "e9ff4a21",
   "metadata": {},
   "outputs": [],
   "source": [
    "at_least_20 = cust_claim[cust_claim['claim_date']<=before] # Filter the data on the basis of condition"
   ]
  },
  {
   "cell_type": "code",
   "execution_count": 28,
   "id": "ca20fd46",
   "metadata": {},
   "outputs": [
    {
     "name": "stdout",
     "output_type": "stream",
     "text": [
      "The total amount claimed at least 20 days prior to 1st October,2018:-\n"
     ]
    },
    {
     "data": {
      "text/html": [
       "<div>\n",
       "<style scoped>\n",
       "    .dataframe tbody tr th:only-of-type {\n",
       "        vertical-align: middle;\n",
       "    }\n",
       "\n",
       "    .dataframe tbody tr th {\n",
       "        vertical-align: top;\n",
       "    }\n",
       "\n",
       "    .dataframe thead th {\n",
       "        text-align: right;\n",
       "    }\n",
       "</style>\n",
       "<table border=\"1\" class=\"dataframe\">\n",
       "  <thead>\n",
       "    <tr style=\"text-align: right;\">\n",
       "      <th></th>\n",
       "      <th>incident_cause</th>\n",
       "      <th>claim_amount</th>\n",
       "    </tr>\n",
       "  </thead>\n",
       "  <tbody>\n",
       "    <tr>\n",
       "      <th>0</th>\n",
       "      <td>Crime</td>\n",
       "      <td>721939.0</td>\n",
       "    </tr>\n",
       "    <tr>\n",
       "      <th>1</th>\n",
       "      <td>Driver error</td>\n",
       "      <td>3315851.0</td>\n",
       "    </tr>\n",
       "    <tr>\n",
       "      <th>2</th>\n",
       "      <td>Natural causes</td>\n",
       "      <td>1312987.0</td>\n",
       "    </tr>\n",
       "    <tr>\n",
       "      <th>3</th>\n",
       "      <td>Other causes</td>\n",
       "      <td>3723152.0</td>\n",
       "    </tr>\n",
       "    <tr>\n",
       "      <th>4</th>\n",
       "      <td>Other driver error</td>\n",
       "      <td>3277536.0</td>\n",
       "    </tr>\n",
       "  </tbody>\n",
       "</table>\n",
       "</div>"
      ],
      "text/plain": [
       "       incident_cause  claim_amount\n",
       "0               Crime      721939.0\n",
       "1        Driver error     3315851.0\n",
       "2      Natural causes     1312987.0\n",
       "3        Other causes     3723152.0\n",
       "4  Other driver error     3277536.0"
      ]
     },
     "execution_count": 28,
     "metadata": {},
     "output_type": "execute_result"
    }
   ],
   "source": [
    "print('The total amount claimed at least 20 days prior to 1st October,2018:-')\n",
    "round(at_least_20.groupby('incident_cause')['claim_amount'].sum()).reset_index()"
   ]
  },
  {
   "cell_type": "raw",
   "id": "a6129be7",
   "metadata": {},
   "source": [
    "Ques.11. Draw a pie chart between the aggregated value of claim amount based \n",
    "        on gender and segment. Represent the claim amount as a percentage on\n",
    "        the pie chart."
   ]
  },
  {
   "cell_type": "code",
   "execution_count": 29,
   "id": "a670a65d",
   "metadata": {},
   "outputs": [],
   "source": [
    "gen=round(cust_claim.groupby(['gender','Segment'])['claim_amount'].sum())"
   ]
  },
  {
   "cell_type": "code",
   "execution_count": 30,
   "id": "858b0d7d",
   "metadata": {},
   "outputs": [
    {
     "data": {
      "text/plain": [
       "Text(0.5, 1.0, 'Claim Amount by Gender and Segment')"
      ]
     },
     "execution_count": 30,
     "metadata": {},
     "output_type": "execute_result"
    },
    {
     "data": {
      "image/png": "[encoded data removed]",
      "text/plain": [
       "<Figure size 640x480 with 1 Axes>"
      ]
     },
     "metadata": {},
     "output_type": "display_data"
    }
   ],
   "source": [
    "plt.pie(gen.values,labels=gen.index,autopct='%1.1f%%')\n",
    "plt.title('Claim Amount by Gender and Segment')"
   ]
  },
  {
   "cell_type": "raw",
   "id": "ada67476",
   "metadata": {},
   "source": [
    "Ques.12. Among males and females, which gender had claimed the most for any \n",
    "        type of driver related issues? E.g. This metric can be compared using a \n",
    "        bar chart"
   ]
  },
  {
   "cell_type": "code",
   "execution_count": 31,
   "id": "268fe9e0",
   "metadata": {},
   "outputs": [],
   "source": [
    "mal=cust_claim[cust_claim['incident_cause'].isin( ['Driver error','Other driver error'])]"
   ]
  },
  {
   "cell_type": "code",
   "execution_count": 32,
   "id": "ef4616a7",
   "metadata": {},
   "outputs": [
    {
     "name": "stderr",
     "output_type": "stream",
     "text": [
      "C:\\Users\\Admin\\AppData\\Local\\Temp\\ipykernel_7980\\2909350070.py:3: UserWarning: FixedFormatter should only be used together with FixedLocator\n",
      "  plt.gca().set_yticklabels(round(cust_claim['claim_amount']))\n"
     ]
    },
    {
     "data": {
      "text/plain": [
       "Text(0.5, 1.0, 'Gender Wise Claim in driver related issues')"
      ]
     },
     "execution_count": 32,
     "metadata": {},
     "output_type": "execute_result"
    },
    {
     "data": {
      "image/png": "[encoded data removed]",
      "text/plain": [
       "<Figure size 640x480 with 1 Axes>"
      ]
     },
     "metadata": {},
     "output_type": "display_data"
    }
   ],
   "source": [
    "round(mal.groupby('gender')['claim_amount'].sum()).plot(kind='bar')\n",
    "plt.xticks(rotation=360)\n",
    "plt.gca().set_yticklabels(round(cust_claim['claim_amount']))\n",
    "plt.ylabel('Claim_amount')\n",
    "plt.title('Gender Wise Claim in driver related issues')"
   ]
  },
  {
   "cell_type": "raw",
   "id": "309ad5e6",
   "metadata": {},
   "source": [
    "Ques.13. Which age group had the maximum fraudulent policy claims? Visualize \n",
    "         it on a bar chart."
   ]
  },
  {
   "cell_type": "code",
   "execution_count": 33,
   "id": "7e9700f3",
   "metadata": {},
   "outputs": [
    {
     "data": {
      "text/plain": [
       "Text(0.5, 1.0, 'Age_group wise fraudulent count')"
      ]
     },
     "execution_count": 33,
     "metadata": {},
     "output_type": "execute_result"
    },
    {
     "data": {
      "image/png": "[encoded data removed]",
      "text/plain": [
       "<Figure size 640x480 with 1 Axes>"
      ]
     },
     "metadata": {},
     "output_type": "display_data"
    }
   ],
   "source": [
    "cust_claim.groupby('Age_group')['fraudulent'].count().plot(kind='bar')\n",
    "plt.xticks(rotation=360)\n",
    "plt.ylabel('fraudulent_count')\n",
    "plt.title('Age_group wise fraudulent count')"
   ]
  },
  {
   "cell_type": "raw",
   "id": "9090244b",
   "metadata": {},
   "source": [
    "Ques.14. Visualize the monthly trend of the total amount that has been claimed \n",
    "        by the customers. Ensure that on the “month” axis, the month is in a \n",
    "        chronological order not alphabetical order"
   ]
  },
  {
   "cell_type": "code",
   "execution_count": 34,
   "id": "62e68485",
   "metadata": {},
   "outputs": [],
   "source": [
    "cust_claim['Month']=cust_claim['claim_date'].dt.month # assign a month column"
   ]
  },
  {
   "cell_type": "code",
   "execution_count": 35,
   "id": "a984fe63",
   "metadata": {},
   "outputs": [
    {
     "data": {
      "text/plain": [
       "Text(0.5, 1.0, 'Monthly Trend for claim amount')"
      ]
     },
     "execution_count": 35,
     "metadata": {},
     "output_type": "execute_result"
    },
    {
     "data": {
      "image/png": "[encoded data removed]",
      "text/plain": [
       "<Figure size 640x480 with 1 Axes>"
      ]
     },
     "metadata": {},
     "output_type": "display_data"
    }
   ],
   "source": [
    "round(cust_claim.groupby('Month')['claim_amount'].sum()).plot(kind='line')\n",
    "plt.ylabel('Claim_amount')\n",
    "plt.title('Monthly Trend for claim amount')"
   ]
  },
  {
   "cell_type": "raw",
   "id": "ae6393f0",
   "metadata": {},
   "source": [
    "Ques.15. What is the average claim amount for gender and age categories and \n",
    "        suitably represent the above using a facetted bar chart, one facet that \n",
    "        represents fraudulent claims and the other for non-fraudulent claims"
   ]
  },
  {
   "cell_type": "code",
   "execution_count": 36,
   "id": "9344126b",
   "metadata": {},
   "outputs": [],
   "source": [
    "avg_claim_amount=cust_claim.groupby(['gender', 'Age_group', 'fraudulent'])['claim_amount'].mean().reset_index()\n"
   ]
  },
  {
   "cell_type": "code",
   "execution_count": 37,
   "id": "4aa53e9f",
   "metadata": {},
   "outputs": [
    {
     "data": {
      "image/png": "[encoded data removed]",
      "text/plain": [
       "<Figure size 1118x500 with 2 Axes>"
      ]
     },
     "metadata": {},
     "output_type": "display_data"
    }
   ],
   "source": [
    "sns.set(style=\"whitegrid\")\n",
    "g = sns.catplot(\n",
    "    data=avg_claim_amount, kind=\"bar\",\n",
    "    x=\"gender\", y=\"claim_amount\", hue=\"Age_group\", col=\"fraudulent\",\n",
    ")"
   ]
  },
  {
   "cell_type": "markdown",
   "id": "d9544130",
   "metadata": {},
   "source": [
    "# Hypothesis Testing"
   ]
  },
  {
   "cell_type": "code",
   "execution_count": 38,
   "id": "75ccdb8a",
   "metadata": {},
   "outputs": [],
   "source": [
    "import scipy.stats as stats\n",
    "\n",
    "from scipy.stats import chi2_contingency\n",
    "\n",
    "from scipy.stats import ttest_1samp\n",
    "\n",
    "from scipy.stats import f_oneway\n",
    "\n",
    "from scipy.stats import pearsonr"
   ]
  },
  {
   "cell_type": "raw",
   "id": "5a031c21",
   "metadata": {},
   "source": [
    "Ques.16. Is there any similarity in the amount claimed by males and females?"
   ]
  },
  {
   "cell_type": "code",
   "execution_count": 39,
   "id": "ce85d423",
   "metadata": {},
   "outputs": [],
   "source": [
    "## Perform two sample t-test\n",
    "\n",
    "# gender  wise claim\n",
    "\n",
    "fem=cust_claim[['gender','claim_amount']]\n",
    "Male_wise=fem[fem['gender']=='Male']['claim_amount']\n",
    "Female_wise=fem[fem['gender']=='Female']['claim_amount']\n"
   ]
  },
  {
   "cell_type": "code",
   "execution_count": 40,
   "id": "8d012e05",
   "metadata": {},
   "outputs": [],
   "source": [
    "# Null Hypothesis(H0):- There is no significance difference in the claimed amount\n",
    "\n",
    "# Alternate Hypothesis(H1):- There is not any significance difference in the claimed amount\n",
    "\n",
    "\n",
    "t_stat,p_value = stats.ttest_ind(Male_wise,Female_wise)"
   ]
  },
  {
   "cell_type": "code",
   "execution_count": 41,
   "id": "dbf3d1e4",
   "metadata": {},
   "outputs": [
    {
     "name": "stdout",
     "output_type": "stream",
     "text": [
      "There is no statistically significant difference in claim amounts between males and females.  \n"
     ]
    }
   ],
   "source": [
    "alpha =0.05\n",
    "\n",
    "# Check if the p-value is less than the significance level\n",
    "if p_value < alpha:\n",
    "    print('There is a statistically significant difference in claim amounts between males and females.')\n",
    "else:\n",
    "    print('There is no statistically significant difference in claim amounts between males and females.  ')"
   ]
  },
  {
   "cell_type": "raw",
   "id": "ce9b78c9",
   "metadata": {},
   "source": [
    "Ques.17. Is there any relationship between age category and segment?"
   ]
  },
  {
   "cell_type": "code",
   "execution_count": 42,
   "id": "5df15d03",
   "metadata": {},
   "outputs": [],
   "source": [
    "## For this analysis perform chi-square test"
   ]
  },
  {
   "cell_type": "code",
   "execution_count": 43,
   "id": "f059839d",
   "metadata": {},
   "outputs": [],
   "source": [
    "contingency_table = pd.crosstab(cust_claim['Age_group'],cust_claim['Segment'])"
   ]
  },
  {
   "cell_type": "code",
   "execution_count": 44,
   "id": "0ea9f1a2",
   "metadata": {},
   "outputs": [],
   "source": [
    "## Null Hypothesis(H0):- There is no relationship between 'age group' and 'segment'\n",
    "\n",
    "## Alternate Hypothesis(H1):- There is relationship between 'age group' and 'segment'\n",
    "\n",
    "chi2, p, dof, expected=chi2_contingency(contingency_table)\n",
    "\n",
    "alpha1=0.05"
   ]
  },
  {
   "cell_type": "code",
   "execution_count": 45,
   "id": "77d7bfc7",
   "metadata": {},
   "outputs": [
    {
     "name": "stdout",
     "output_type": "stream",
     "text": [
      "Fail to reject the null hypothesis: There is no relationship between age category and segment\n"
     ]
    }
   ],
   "source": [
    "if p < alpha:\n",
    "    print('Reject the null hypothesis: There is a relationship between age category and segment.')\n",
    "else:\n",
    "    print('Fail to reject the null hypothesis: There is no relationship between age category and segment')"
   ]
  },
  {
   "cell_type": "raw",
   "id": "34e93c69",
   "metadata": {},
   "source": [
    "Ques.18.The current year has shown a significant rise in claim amounts as \n",
    "        compared to 2016-17 fiscal average which was $10,000"
   ]
  },
  {
   "cell_type": "code",
   "execution_count": 46,
   "id": "71bee820",
   "metadata": {},
   "outputs": [
    {
     "name": "stdout",
     "output_type": "stream",
     "text": [
      "Reject the null hypothesis: There is a significant rise in the claim amounts.\n"
     ]
    }
   ],
   "source": [
    "## Null Hypothesis(H0):- The current year's claim amounts are not significantly different\n",
    "\n",
    "## Alternate Hypothesis(H1):- The current year's claim amounts are signicantly different\n",
    "\n",
    "pop_mean = 10000\n",
    "\n",
    "t_test2,p_value2 = ttest_1samp(cust_claim['claim_amount'],pop_mean)\n",
    "\n",
    "alpha2 = 0.05\n",
    "\n",
    "if p_value2 < alpha2:\n",
    "    print('Reject the null hypothesis: There is a significant rise in the claim amounts.')\n",
    "else:\n",
    "    print('Fail to reject the null hypothesis: Claim amounts are not significantly different')"
   ]
  },
  {
   "cell_type": "raw",
   "id": "8238e0bb",
   "metadata": {},
   "source": [
    "Ques.19.Is there any difference between age groups and insurance claims?"
   ]
  },
  {
   "cell_type": "code",
   "execution_count": 47,
   "id": "244d2cd8",
   "metadata": {},
   "outputs": [
    {
     "data": {
      "text/plain": [
       "30-60       531\n",
       "Under 18    352\n",
       "18-30       195\n",
       "Over 60       0\n",
       "Name: Age_group, dtype: int64"
      ]
     },
     "execution_count": 47,
     "metadata": {},
     "output_type": "execute_result"
    }
   ],
   "source": [
    "cust_claim['Age_group'].value_counts()"
   ]
  },
  {
   "cell_type": "code",
   "execution_count": 48,
   "id": "58011ba2",
   "metadata": {},
   "outputs": [],
   "source": [
    "    Adult=cust_claim.loc[cust_claim.Age_group=='30-60','claim_amount']\n",
    "    Child=cust_claim.loc[cust_claim.Age_group=='Under 18','claim_amount'] \n",
    "    Teenage=cust_claim.loc[cust_claim.Age_group=='18-30','claim_amount']\n",
    "    "
   ]
  },
  {
   "cell_type": "code",
   "execution_count": 49,
   "id": "cfdd13e6",
   "metadata": {},
   "outputs": [
    {
     "name": "stdout",
     "output_type": "stream",
     "text": [
      "Fail to reject the null hypothesis: No significant difference in insurance claims among age groups.\n"
     ]
    }
   ],
   "source": [
    "## Perform Annova Test\n",
    "\n",
    "## Null Hypothesis(H0): There is no significant difference\n",
    "\n",
    "## Alternate Hypothesis(H1): There is at least one group is different from others\n",
    "\n",
    "f_statistic, p_value4=stats.f_oneway(Adult,Child,Teenage)\n",
    "\n",
    "alpha4 = 0.05\n",
    "\n",
    "if p_value < alpha:\n",
    "    print(\"Reject the null hypothesis: There is a significant difference in insurance claims among age groups.\")\n",
    "else:\n",
    "    print(\"Fail to reject the null hypothesis: No significant difference in insurance claims among age groups.\")"
   ]
  },
  {
   "cell_type": "raw",
   "id": "8062c8e1",
   "metadata": {},
   "source": [
    "Ques.20. Is there any relationship between total number of policy claims and the \n",
    "        claimed amount?"
   ]
  },
  {
   "cell_type": "code",
   "execution_count": 50,
   "id": "bb97a2f3",
   "metadata": {},
   "outputs": [
    {
     "name": "stdout",
     "output_type": "stream",
     "text": [
      "Fail to reject the null hypothesis: No significant correlation between total claims and claimed amount.\n"
     ]
    }
   ],
   "source": [
    "## Perform Pearsonr correlation test\n",
    "\n",
    "## Null Hypothesis(H0):- There is no significant relation\n",
    "## Alternate Hypothesis(H1):- There is signicant relation\n",
    "\n",
    "\n",
    "r,p_value9=pearsonr(cust_claim['total_policy_claims'],cust_claim['claim_amount'])\n",
    "\n",
    "alpha9=0.05\n",
    "\n",
    "if p_value9 < alpha9:\n",
    "    print(\"Reject the null hypothesis: There is a significant correlation between total claims and claimed amount.\")\n",
    "else:\n",
    "    print(\"Fail to reject the null hypothesis: No significant correlation between total claims and claimed amount.\")"
   ]
  },
  {
   "cell_type": "code",
   "execution_count": null,
   "id": "a7de6770",
   "metadata": {},
   "outputs": [],
   "source": []
  },
  {
   "cell_type": "code",
   "execution_count": null,
   "id": "affe21b5",
   "metadata": {},
   "outputs": [],
   "source": []
  },
  {
   "cell_type": "code",
   "execution_count": null,
   "id": "fc93a3c0",
   "metadata": {},
   "outputs": [],
   "source": []
  },
  {
   "cell_type": "code",
   "execution_count": null,
   "id": "3601741d",
   "metadata": {},
   "outputs": [],
   "source": []
  }
 ],
 "metadata": {
  "kernelspec": {
   "display_name": "Python 3 (ipykernel)",
   "language": "python",
   "name": "python3"
  },
  "language_info": {
   "codemirror_mode": {
    "name": "ipython",
    "version": 3
   },
   "file_extension": ".py",
   "mimetype": "text/x-python",
   "name": "python",
   "nbconvert_exporter": "python",
   "pygments_lexer": "ipython3",
   "version": "3.11.4"
  }
 },
 "nbformat": 4,
 "nbformat_minor": 5
}
